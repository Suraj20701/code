{
 "cells": [
  {
   "cell_type": "code",
   "execution_count": 1,
   "id": "66e9f1c5",
   "metadata": {
    "slideshow": {
     "slide_type": "-"
    }
   },
   "outputs": [
    {
     "name": "stdout",
     "output_type": "stream",
     "text": [
      "HII\n"
     ]
    }
   ],
   "source": [
    "import pandas as pd\n",
    "print(\"HII\")"
   ]
  },
  {
   "cell_type": "code",
   "execution_count": 12,
   "id": "560d54c6",
   "metadata": {},
   "outputs": [
    {
     "data": {
      "text/html": [
       "<div>\n",
       "<style scoped>\n",
       "    .dataframe tbody tr th:only-of-type {\n",
       "        vertical-align: middle;\n",
       "    }\n",
       "\n",
       "    .dataframe tbody tr th {\n",
       "        vertical-align: top;\n",
       "    }\n",
       "\n",
       "    .dataframe thead th {\n",
       "        text-align: right;\n",
       "    }\n",
       "</style>\n",
       "<table border=\"1\" class=\"dataframe\">\n",
       "  <thead>\n",
       "    <tr style=\"text-align: right;\">\n",
       "      <th></th>\n",
       "      <th>Suraj</th>\n",
       "      <th>Shubham</th>\n",
       "    </tr>\n",
       "  </thead>\n",
       "  <tbody>\n",
       "    <tr>\n",
       "      <th>Subject1</th>\n",
       "      <td>20</td>\n",
       "      <td>20</td>\n",
       "    </tr>\n",
       "    <tr>\n",
       "      <th>Subject2</th>\n",
       "      <td>19</td>\n",
       "      <td>20</td>\n",
       "    </tr>\n",
       "    <tr>\n",
       "      <th>Subject3</th>\n",
       "      <td>18</td>\n",
       "      <td>19</td>\n",
       "    </tr>\n",
       "  </tbody>\n",
       "</table>\n",
       "</div>"
      ],
      "text/plain": [
       "          Suraj  Shubham\n",
       "Subject1     20       20\n",
       "Subject2     19       20\n",
       "Subject3     18       19"
      ]
     },
     "execution_count": 12,
     "metadata": {},
     "output_type": "execute_result"
    }
   ],
   "source": [
    "# pandas dataframe\n",
    "df = pd.DataFrame({\"Suraj\":[20,19,18], \"Shubham\":[20,20,19]},index=[\"Subject1\", \"Subject2\", \"Subject3\"])\n",
    "\n",
    "# df[\"Suraj\"][0]\n",
    "df"
   ]
  },
  {
   "cell_type": "code",
   "execution_count": 13,
   "id": "1aded3d6",
   "metadata": {},
   "outputs": [
    {
     "data": {
      "text/plain": [
       "Subject1    20\n",
       "Subject2    19\n",
       "Subject3    18\n",
       "Name: Suraj Marks, dtype: int64"
      ]
     },
     "execution_count": 13,
     "metadata": {},
     "output_type": "execute_result"
    }
   ],
   "source": [
    "# pandas series\n",
    "ds = pd.Series([20, 19, 18], index=[\"Subject1\", \"Subject2\", \"Subject3\"], name=\"Suraj Marks\")\n",
    "ds"
   ]
  },
  {
   "cell_type": "code",
   "execution_count": null,
   "id": "f2de364d",
   "metadata": {},
   "outputs": [],
   "source": [
    "# read .csv file\n",
    "csv_data = pd.read_csv(\"./sample.csv\")\n",
    "\n",
    "csv_data.shape\n",
    "\n",
    "csv_data.columns\n",
    "\n",
    "csv_data.head(5)"
   ]
  },
  {
   "cell_type": "code",
   "execution_count": null,
   "id": "85dd0b50",
   "metadata": {},
   "outputs": [],
   "source": [
    "# write data to .csv and read again\n",
    "obj = {\n",
    "       \"Suraj\" : [10,9,8,7],\n",
    "       \"Shubham\" : [10, 10, 8, 7],\n",
    "       \"Kiran\"  : [5, 6, 10, 8]\n",
    "      }\n",
    "df = pd.DataFrame(obj, index=[\"Sub1\", \"Sub2\", \"Sub3\", \"Sub4\"])\n",
    "\n",
    "df.to_csv(\"data\")\n",
    "\n",
    "df = pd.read_csv(\"data\",index_col=0)\n",
    "\n",
    "df"
   ]
  },
  {
   "cell_type": "code",
   "execution_count": 14,
   "id": "83edf47d",
   "metadata": {},
   "outputs": [
    {
     "data": {
      "text/html": [
       "<div>\n",
       "<style scoped>\n",
       "    .dataframe tbody tr th:only-of-type {\n",
       "        vertical-align: middle;\n",
       "    }\n",
       "\n",
       "    .dataframe tbody tr th {\n",
       "        vertical-align: top;\n",
       "    }\n",
       "\n",
       "    .dataframe thead th {\n",
       "        text-align: right;\n",
       "    }\n",
       "</style>\n",
       "<table border=\"1\" class=\"dataframe\">\n",
       "  <thead>\n",
       "    <tr style=\"text-align: right;\">\n",
       "      <th></th>\n",
       "      <th>region</th>\n",
       "      <th>anzsic_descriptor</th>\n",
       "      <th>anzsic_descriptor2</th>\n",
       "      <th>category</th>\n",
       "      <th>gas</th>\n",
       "      <th>units</th>\n",
       "      <th>magnitude</th>\n",
       "      <th>year</th>\n",
       "      <th>data_val</th>\n",
       "    </tr>\n",
       "  </thead>\n",
       "  <tbody>\n",
       "    <tr>\n",
       "      <th>0</th>\n",
       "      <td>Auckland</td>\n",
       "      <td>Forestry and logging, fishing, and agricultura...</td>\n",
       "      <td>Total</td>\n",
       "      <td>Total</td>\n",
       "      <td>Carbon dioxide equivalents</td>\n",
       "      <td>Kilotonnes</td>\n",
       "      <td>Carbon dioxide equivalents</td>\n",
       "      <td>2007</td>\n",
       "      <td>39.43</td>\n",
       "    </tr>\n",
       "    <tr>\n",
       "      <th>1</th>\n",
       "      <td>Auckland</td>\n",
       "      <td>Forestry and logging, fishing, and agricultura...</td>\n",
       "      <td>Total</td>\n",
       "      <td>Total</td>\n",
       "      <td>Carbon dioxide equivalents</td>\n",
       "      <td>Kilotonnes</td>\n",
       "      <td>Carbon dioxide equivalents</td>\n",
       "      <td>2008</td>\n",
       "      <td>40.36</td>\n",
       "    </tr>\n",
       "    <tr>\n",
       "      <th>2</th>\n",
       "      <td>Auckland</td>\n",
       "      <td>Forestry and logging, fishing, and agricultura...</td>\n",
       "      <td>Total</td>\n",
       "      <td>Total</td>\n",
       "      <td>Carbon dioxide equivalents</td>\n",
       "      <td>Kilotonnes</td>\n",
       "      <td>Carbon dioxide equivalents</td>\n",
       "      <td>2009</td>\n",
       "      <td>30.18</td>\n",
       "    </tr>\n",
       "    <tr>\n",
       "      <th>3</th>\n",
       "      <td>Auckland</td>\n",
       "      <td>Forestry and logging, fishing, and agricultura...</td>\n",
       "      <td>Total</td>\n",
       "      <td>Total</td>\n",
       "      <td>Carbon dioxide equivalents</td>\n",
       "      <td>Kilotonnes</td>\n",
       "      <td>Carbon dioxide equivalents</td>\n",
       "      <td>2010</td>\n",
       "      <td>25.66</td>\n",
       "    </tr>\n",
       "    <tr>\n",
       "      <th>4</th>\n",
       "      <td>Auckland</td>\n",
       "      <td>Forestry and logging, fishing, and agricultura...</td>\n",
       "      <td>Total</td>\n",
       "      <td>Total</td>\n",
       "      <td>Carbon dioxide equivalents</td>\n",
       "      <td>Kilotonnes</td>\n",
       "      <td>Carbon dioxide equivalents</td>\n",
       "      <td>2011</td>\n",
       "      <td>42.59</td>\n",
       "    </tr>\n",
       "  </tbody>\n",
       "</table>\n",
       "</div>"
      ],
      "text/plain": [
       "     region                                  anzsic_descriptor  \\\n",
       "0  Auckland  Forestry and logging, fishing, and agricultura...   \n",
       "1  Auckland  Forestry and logging, fishing, and agricultura...   \n",
       "2  Auckland  Forestry and logging, fishing, and agricultura...   \n",
       "3  Auckland  Forestry and logging, fishing, and agricultura...   \n",
       "4  Auckland  Forestry and logging, fishing, and agricultura...   \n",
       "\n",
       "  anzsic_descriptor2 category                         gas       units  \\\n",
       "0              Total    Total  Carbon dioxide equivalents  Kilotonnes   \n",
       "1              Total    Total  Carbon dioxide equivalents  Kilotonnes   \n",
       "2              Total    Total  Carbon dioxide equivalents  Kilotonnes   \n",
       "3              Total    Total  Carbon dioxide equivalents  Kilotonnes   \n",
       "4              Total    Total  Carbon dioxide equivalents  Kilotonnes   \n",
       "\n",
       "                    magnitude  year  data_val  \n",
       "0  Carbon dioxide equivalents  2007     39.43  \n",
       "1  Carbon dioxide equivalents  2008     40.36  \n",
       "2  Carbon dioxide equivalents  2009     30.18  \n",
       "3  Carbon dioxide equivalents  2010     25.66  \n",
       "4  Carbon dioxide equivalents  2011     42.59  "
      ]
     },
     "execution_count": 14,
     "metadata": {},
     "output_type": "execute_result"
    }
   ],
   "source": [
    "# selecting rows\n",
    "df = pd.read_csv(\"sample.csv\")\n",
    "df.head(5)"
   ]
  },
  {
   "cell_type": "code",
   "execution_count": 18,
   "id": "7bc1edfd",
   "metadata": {},
   "outputs": [
    {
     "name": "stdout",
     "output_type": "stream",
     "text": [
      "0    Auckland\n",
      "1    Auckland\n",
      "2    Auckland\n",
      "3    Auckland\n",
      "4    Auckland\n",
      "Name: region, dtype: object\n"
     ]
    }
   ],
   "source": [
    "print(df.region.head(5))"
   ]
  },
  {
   "cell_type": "code",
   "execution_count": 20,
   "id": "7bde3c90",
   "metadata": {},
   "outputs": [
    {
     "data": {
      "text/html": [
       "<div>\n",
       "<style scoped>\n",
       "    .dataframe tbody tr th:only-of-type {\n",
       "        vertical-align: middle;\n",
       "    }\n",
       "\n",
       "    .dataframe tbody tr th {\n",
       "        vertical-align: top;\n",
       "    }\n",
       "\n",
       "    .dataframe thead th {\n",
       "        text-align: right;\n",
       "    }\n",
       "</style>\n",
       "<table border=\"1\" class=\"dataframe\">\n",
       "  <thead>\n",
       "    <tr style=\"text-align: right;\">\n",
       "      <th></th>\n",
       "      <th>year</th>\n",
       "      <th>data_val</th>\n",
       "    </tr>\n",
       "  </thead>\n",
       "  <tbody>\n",
       "    <tr>\n",
       "      <th>year</th>\n",
       "      <td>1.00000</td>\n",
       "      <td>0.00804</td>\n",
       "    </tr>\n",
       "    <tr>\n",
       "      <th>data_val</th>\n",
       "      <td>0.00804</td>\n",
       "      <td>1.00000</td>\n",
       "    </tr>\n",
       "  </tbody>\n",
       "</table>\n",
       "</div>"
      ],
      "text/plain": [
       "             year  data_val\n",
       "year      1.00000   0.00804\n",
       "data_val  0.00804   1.00000"
      ]
     },
     "execution_count": 20,
     "metadata": {},
     "output_type": "execute_result"
    }
   ],
   "source": [
    "df.corr()"
   ]
  },
  {
   "cell_type": "code",
   "execution_count": null,
   "id": "9620b68a",
   "metadata": {},
   "outputs": [],
   "source": []
  }
 ],
 "metadata": {
  "kernelspec": {
   "display_name": "Python 3 (ipykernel)",
   "language": "python",
   "name": "python3"
  },
  "language_info": {
   "codemirror_mode": {
    "name": "ipython",
    "version": 3
   },
   "file_extension": ".py",
   "mimetype": "text/x-python",
   "name": "python",
   "nbconvert_exporter": "python",
   "pygments_lexer": "ipython3",
   "version": "3.9.13"
  }
 },
 "nbformat": 4,
 "nbformat_minor": 5
}
